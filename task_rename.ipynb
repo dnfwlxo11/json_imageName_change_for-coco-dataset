{
 "cells": [
  {
   "cell_type": "code",
   "execution_count": 48,
   "metadata": {},
   "outputs": [],
   "source": [
    "import os, json"
   ]
  },
  {
   "cell_type": "code",
   "execution_count": 111,
   "metadata": {},
   "outputs": [],
   "source": [
    "os.chdir('/home/daein/Jupyter_notebook/data_tmp')"
   ]
  },
  {
   "cell_type": "code",
   "execution_count": 113,
   "metadata": {},
   "outputs": [],
   "source": [
    "class_li = os.listdir()"
   ]
  },
  {
   "cell_type": "code",
   "execution_count": 114,
   "metadata": {},
   "outputs": [],
   "source": [
    "# json 파일에서 이미지 명 검색 후 변경해주는 함수\n",
    "def load_json_imageList(file):\n",
    "    json_in_imageName = []\n",
    "    json_in_classId = []\n",
    "    json_in_className = []\n",
    "    \n",
    "    with open(file, 'r', encoding='utf-8') as f:\n",
    "        data = json.load(f)\n",
    "        images_li = data['images']\n",
    "        cate_li = data['categories']\n",
    "        labelMap_li = data['categories']\n",
    "    \n",
    "        for i in range(len(images_li)):\n",
    "            json_in_imageName.append(images_li[i]['file_name'])\n",
    "            \n",
    "        for i in range(len(cate_li)):\n",
    "            json_in_className.append(cate_li[i]['name'])\n",
    "            json_in_classId.append(cate_li[i]['id'])\n",
    "            \n",
    "    return json_in_imageName, json_in_className, json_in_classId, labelMap_li"
   ]
  },
  {
   "cell_type": "code",
   "execution_count": 115,
   "metadata": {},
   "outputs": [],
   "source": [
    "# 각 클래스별 태스크 명 가져오는 함수\n",
    "def get_taskName(state):\n",
    "    class_dict_tmp = {}\n",
    "    \n",
    "    for i in class_li:\n",
    "        try:\n",
    "            class_dict_tmp[i] = os.listdir(os.path.join('./', i, state))\n",
    "            print(i + ' 클래스 {} 태스크 리스트 추출 완료\\n'.format(state), '-' * 50)\n",
    "\n",
    "        except:\n",
    "            print(i + ' 클래스 일부에 {} 태스크가 없음'.format(state))\n",
    "            \n",
    "    return class_dict_tmp\n",
    "\n",
    "# class_dict_normal = {}\n",
    "# class_dict_normal = get_taskName('정상')\n",
    "\n",
    "# class_dict_abnormal = {}\n",
    "# class_dict_abnormal = get_taskName('이상')\n",
    "\n",
    "class_dict = {}\n",
    "class_dict = get_taskName('')"
   ]
  },
  {
   "cell_type": "code",
   "execution_count": 108,
   "metadata": {
    "scrolled": true
   },
   "outputs": [],
   "source": [
    "def json_imageName_change(path, jsonName, taskName):    \n",
    "    data = {}\n",
    "\n",
    "    with open(os.path.join(path, jsonName), 'r', encoding='utf-8') as f:\n",
    "        data = json.load(f)\n",
    "        images_li = data['images']\n",
    "        for i in range(len(images_li)):\n",
    "            if images_li[i]['file_name'].split('_')[0] == 'frame':\n",
    "                images_li[i]['file_name'] = taskName + images_li[i]['file_name'].split('_')[1]\n",
    "    \n",
    "    with open(os.path.join(path, jsonName.split('.')[0] + '_change.json'), 'w', encoding='utf-8') as out:\n",
    "        json.dump(data, out, indent=4)        "
   ]
  },
  {
   "cell_type": "code",
   "execution_count": 116,
   "metadata": {},
   "outputs": [],
   "source": [
    "for i in class_li:\n",
    "    for j in class_dict[i]:\n",
    "        try:\n",
    "            imageName = os.listdir(os.path.join(os.getcwd(), i, j, 'images'))\n",
    "            jsonName = os.listdir(os.path.join(os.getcwd(), i, j, 'annotations'))\n",
    "            json_imageName_change(os.path.join(os.getcwd(), i, j, 'annotations'), jsonName[0], j)\n",
    "        except:\n",
    "            print('에러 발생')\n",
    "        \n",
    "        print(jsonName)\n",
    "    print('-'*50)"
   ]
  },
  {
   "cell_type": "code",
   "execution_count": null,
   "metadata": {},
   "outputs": [],
   "source": []
  }
 ],
 "metadata": {
  "kernelspec": {
   "display_name": "Python 3",
   "language": "python",
   "name": "python3"
  },
  "language_info": {
   "codemirror_mode": {
    "name": "ipython",
    "version": 3
   },
   "file_extension": ".py",
   "mimetype": "text/x-python",
   "name": "python",
   "nbconvert_exporter": "python",
   "pygments_lexer": "ipython3",
   "version": "3.8.5"
  }
 },
 "nbformat": 4,
 "nbformat_minor": 4
}
